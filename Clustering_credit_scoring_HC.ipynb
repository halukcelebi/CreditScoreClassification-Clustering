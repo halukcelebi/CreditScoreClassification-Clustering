{
 "cells": [
  {
   "cell_type": "code",
   "execution_count": null,
   "id": "59fdbf90",
   "metadata": {},
   "outputs": [],
   "source": [
    "# data source: https://thecleverprogrammer.com/2023/07/03/credit-scoring-and-segmentation-using-python/"
   ]
  },
  {
   "cell_type": "code",
   "execution_count": 2,
   "id": "0eb014e0",
   "metadata": {},
   "outputs": [],
   "source": [
    "import numpy as np\n",
    "import pandas as pd\n",
    "\n",
    "import matplotlib.pyplot as plt\n",
    "\n",
    "# pembe uyarilardan kurtulmak icin: \n",
    "import warnings\n",
    "warnings.filterwarnings(\"ignore\")"
   ]
  },
  {
   "cell_type": "code",
   "execution_count": 3,
   "id": "e33e54e5",
   "metadata": {},
   "outputs": [],
   "source": [
    "df = pd.read_csv(\"credit_scoring.csv\")"
   ]
  },
  {
   "cell_type": "code",
   "execution_count": 5,
   "id": "f4cebd48",
   "metadata": {},
   "outputs": [
    {
     "data": {
      "text/plain": [
       "Index(['Age', 'Gender', 'Marital Status', 'Education Level',\n",
       "       'Employment Status', 'Credit Utilization Ratio', 'Payment History',\n",
       "       'Number of Credit Accounts', 'Loan Amount', 'Interest Rate',\n",
       "       'Loan Term', 'Type of Loan'],\n",
       "      dtype='object')"
      ]
     },
     "execution_count": 5,
     "metadata": {},
     "output_type": "execute_result"
    }
   ],
   "source": [
    "df.columns"
   ]
  },
  {
   "cell_type": "code",
   "execution_count": 23,
   "id": "99e1c0e9",
   "metadata": {},
   "outputs": [
    {
     "name": "stdout",
     "output_type": "stream",
     "text": [
      "<class 'pandas.core.frame.DataFrame'>\n",
      "RangeIndex: 1000 entries, 0 to 999\n",
      "Data columns (total 12 columns):\n",
      " #   Column                     Non-Null Count  Dtype  \n",
      "---  ------                     --------------  -----  \n",
      " 0   Age                        1000 non-null   int64  \n",
      " 1   Gender                     1000 non-null   int64  \n",
      " 2   Marital Status             1000 non-null   int64  \n",
      " 3   Education Level            1000 non-null   int64  \n",
      " 4   Employment Status          1000 non-null   int64  \n",
      " 5   Credit Utilization Ratio   1000 non-null   float64\n",
      " 6   Payment History            1000 non-null   float64\n",
      " 7   Number of Credit Accounts  1000 non-null   int64  \n",
      " 8   Loan Amount                1000 non-null   int64  \n",
      " 9   Interest Rate              1000 non-null   float64\n",
      " 10  Loan Term                  1000 non-null   int64  \n",
      " 11  Type of Loan               1000 non-null   int64  \n",
      "dtypes: float64(3), int64(9)\n",
      "memory usage: 93.9 KB\n"
     ]
    }
   ],
   "source": [
    "df.info()"
   ]
  },
  {
   "cell_type": "code",
   "execution_count": 7,
   "id": "2721096d",
   "metadata": {},
   "outputs": [
    {
     "data": {
      "text/plain": [
       "array(['Male', 'Female'], dtype=object)"
      ]
     },
     "execution_count": 7,
     "metadata": {},
     "output_type": "execute_result"
    }
   ],
   "source": [
    "df['Gender'].unique()"
   ]
  },
  {
   "cell_type": "code",
   "execution_count": 8,
   "id": "c9fe471d",
   "metadata": {},
   "outputs": [],
   "source": [
    "Gen = {'Male':1 , 'Female': 0}\n",
    "df['Gender'] = df['Gender'].map(Gen)"
   ]
  },
  {
   "cell_type": "code",
   "execution_count": 10,
   "id": "bcd8abc0",
   "metadata": {},
   "outputs": [
    {
     "data": {
      "text/plain": [
       "array(['Married', 'Single', 'Divorced'], dtype=object)"
      ]
     },
     "execution_count": 10,
     "metadata": {},
     "output_type": "execute_result"
    }
   ],
   "source": [
    "df['Marital Status'].unique()"
   ]
  },
  {
   "cell_type": "code",
   "execution_count": 11,
   "id": "1b727584",
   "metadata": {},
   "outputs": [],
   "source": [
    "stat = {'Single': 0, 'Married': 1, 'Divorced': 2}\n",
    "df['Marital Status'] = df['Marital Status'].map(stat) "
   ]
  },
  {
   "cell_type": "code",
   "execution_count": 13,
   "id": "12e21939",
   "metadata": {},
   "outputs": [
    {
     "data": {
      "text/plain": [
       "array(['Master', 'High School', 'PhD', 'Bachelor'], dtype=object)"
      ]
     },
     "execution_count": 13,
     "metadata": {},
     "output_type": "execute_result"
    }
   ],
   "source": [
    "df['Education Level'].unique()"
   ]
  },
  {
   "cell_type": "code",
   "execution_count": 14,
   "id": "9ca2c0bc",
   "metadata": {},
   "outputs": [],
   "source": [
    "edu = {'High School':0, 'Bachelor':1, 'Master':2 , 'PhD':3 }\n",
    "df['Education Level'] = df['Education Level'].map(edu)"
   ]
  },
  {
   "cell_type": "code",
   "execution_count": 16,
   "id": "1537de68",
   "metadata": {},
   "outputs": [
    {
     "data": {
      "text/plain": [
       "array(['Employed', 'Unemployed', 'Self-Employed'], dtype=object)"
      ]
     },
     "execution_count": 16,
     "metadata": {},
     "output_type": "execute_result"
    }
   ],
   "source": [
    "df['Employment Status'].unique()"
   ]
  },
  {
   "cell_type": "code",
   "execution_count": 18,
   "id": "9659aa1f",
   "metadata": {},
   "outputs": [],
   "source": [
    "work = {'Unemployed': 0, 'Employed': 1, 'Self-Employed':2}\n",
    "df['Employment Status']= df['Employment Status'].map(work)"
   ]
  },
  {
   "cell_type": "code",
   "execution_count": 20,
   "id": "cfaac7f3",
   "metadata": {},
   "outputs": [
    {
     "data": {
      "text/plain": [
       "array(['Personal Loan', 'Auto Loan', 'Home Loan'], dtype=object)"
      ]
     },
     "execution_count": 20,
     "metadata": {},
     "output_type": "execute_result"
    }
   ],
   "source": [
    "df['Type of Loan'].unique()"
   ]
  },
  {
   "cell_type": "code",
   "execution_count": 22,
   "id": "03548b8d",
   "metadata": {},
   "outputs": [],
   "source": [
    "loan = {'Personal Loan' : 0, 'Auto Loan':1, 'Home Loan':2 }\n",
    "df['Type of Loan'] = df['Type of Loan'].map(loan)"
   ]
  },
  {
   "cell_type": "code",
   "execution_count": 24,
   "id": "0846b09e",
   "metadata": {},
   "outputs": [],
   "source": [
    "x = df"
   ]
  },
  {
   "cell_type": "code",
   "execution_count": 25,
   "id": "232cde3f",
   "metadata": {},
   "outputs": [],
   "source": [
    "from sklearn.cluster import KMeans\n",
    "from sklearn.metrics import silhouette_score"
   ]
  },
  {
   "cell_type": "code",
   "execution_count": 46,
   "id": "372d2193",
   "metadata": {},
   "outputs": [],
   "source": [
    "model = KMeans(8)\n",
    "model = model.fit(x)"
   ]
  },
  {
   "cell_type": "code",
   "execution_count": 47,
   "id": "2402b4fd",
   "metadata": {},
   "outputs": [],
   "source": [
    "tahmin = model.predict(x)"
   ]
  },
  {
   "cell_type": "code",
   "execution_count": 48,
   "id": "f83286c2",
   "metadata": {},
   "outputs": [],
   "source": [
    "x['cluster'] = tahmin"
   ]
  },
  {
   "cell_type": "code",
   "execution_count": 49,
   "id": "706c225d",
   "metadata": {},
   "outputs": [
    {
     "data": {
      "text/html": [
       "<div>\n",
       "<style scoped>\n",
       "    .dataframe tbody tr th:only-of-type {\n",
       "        vertical-align: middle;\n",
       "    }\n",
       "\n",
       "    .dataframe tbody tr th {\n",
       "        vertical-align: top;\n",
       "    }\n",
       "\n",
       "    .dataframe thead th {\n",
       "        text-align: right;\n",
       "    }\n",
       "</style>\n",
       "<table border=\"1\" class=\"dataframe\">\n",
       "  <thead>\n",
       "    <tr style=\"text-align: right;\">\n",
       "      <th></th>\n",
       "      <th>Age</th>\n",
       "      <th>Gender</th>\n",
       "      <th>Marital Status</th>\n",
       "      <th>Education Level</th>\n",
       "      <th>Employment Status</th>\n",
       "      <th>Credit Utilization Ratio</th>\n",
       "      <th>Payment History</th>\n",
       "      <th>Number of Credit Accounts</th>\n",
       "      <th>Loan Amount</th>\n",
       "      <th>Interest Rate</th>\n",
       "      <th>Loan Term</th>\n",
       "      <th>Type of Loan</th>\n",
       "      <th>cluster</th>\n",
       "    </tr>\n",
       "  </thead>\n",
       "  <tbody>\n",
       "    <tr>\n",
       "      <th>0</th>\n",
       "      <td>60</td>\n",
       "      <td>1</td>\n",
       "      <td>1</td>\n",
       "      <td>2</td>\n",
       "      <td>1</td>\n",
       "      <td>0.22</td>\n",
       "      <td>2685.0</td>\n",
       "      <td>2</td>\n",
       "      <td>4675000</td>\n",
       "      <td>2.65</td>\n",
       "      <td>48</td>\n",
       "      <td>0</td>\n",
       "      <td>0</td>\n",
       "    </tr>\n",
       "    <tr>\n",
       "      <th>1</th>\n",
       "      <td>25</td>\n",
       "      <td>1</td>\n",
       "      <td>1</td>\n",
       "      <td>0</td>\n",
       "      <td>0</td>\n",
       "      <td>0.20</td>\n",
       "      <td>2371.0</td>\n",
       "      <td>9</td>\n",
       "      <td>3619000</td>\n",
       "      <td>5.19</td>\n",
       "      <td>60</td>\n",
       "      <td>1</td>\n",
       "      <td>2</td>\n",
       "    </tr>\n",
       "    <tr>\n",
       "      <th>2</th>\n",
       "      <td>30</td>\n",
       "      <td>0</td>\n",
       "      <td>0</td>\n",
       "      <td>2</td>\n",
       "      <td>1</td>\n",
       "      <td>0.22</td>\n",
       "      <td>2771.0</td>\n",
       "      <td>6</td>\n",
       "      <td>957000</td>\n",
       "      <td>2.76</td>\n",
       "      <td>12</td>\n",
       "      <td>1</td>\n",
       "      <td>3</td>\n",
       "    </tr>\n",
       "    <tr>\n",
       "      <th>3</th>\n",
       "      <td>58</td>\n",
       "      <td>0</td>\n",
       "      <td>1</td>\n",
       "      <td>3</td>\n",
       "      <td>0</td>\n",
       "      <td>0.12</td>\n",
       "      <td>1371.0</td>\n",
       "      <td>2</td>\n",
       "      <td>4731000</td>\n",
       "      <td>6.57</td>\n",
       "      <td>60</td>\n",
       "      <td>1</td>\n",
       "      <td>0</td>\n",
       "    </tr>\n",
       "    <tr>\n",
       "      <th>4</th>\n",
       "      <td>32</td>\n",
       "      <td>1</td>\n",
       "      <td>1</td>\n",
       "      <td>1</td>\n",
       "      <td>2</td>\n",
       "      <td>0.99</td>\n",
       "      <td>828.0</td>\n",
       "      <td>2</td>\n",
       "      <td>3289000</td>\n",
       "      <td>6.28</td>\n",
       "      <td>36</td>\n",
       "      <td>0</td>\n",
       "      <td>2</td>\n",
       "    </tr>\n",
       "  </tbody>\n",
       "</table>\n",
       "</div>"
      ],
      "text/plain": [
       "   Age  Gender  Marital Status  Education Level  Employment Status  \\\n",
       "0   60       1               1                2                  1   \n",
       "1   25       1               1                0                  0   \n",
       "2   30       0               0                2                  1   \n",
       "3   58       0               1                3                  0   \n",
       "4   32       1               1                1                  2   \n",
       "\n",
       "   Credit Utilization Ratio  Payment History  Number of Credit Accounts  \\\n",
       "0                      0.22           2685.0                          2   \n",
       "1                      0.20           2371.0                          9   \n",
       "2                      0.22           2771.0                          6   \n",
       "3                      0.12           1371.0                          2   \n",
       "4                      0.99            828.0                          2   \n",
       "\n",
       "   Loan Amount  Interest Rate  Loan Term  Type of Loan  cluster  \n",
       "0      4675000           2.65         48             0        0  \n",
       "1      3619000           5.19         60             1        2  \n",
       "2       957000           2.76         12             1        3  \n",
       "3      4731000           6.57         60             1        0  \n",
       "4      3289000           6.28         36             0        2  "
      ]
     },
     "execution_count": 49,
     "metadata": {},
     "output_type": "execute_result"
    }
   ],
   "source": [
    "x.head()"
   ]
  },
  {
   "cell_type": "code",
   "execution_count": 53,
   "id": "0c49f3b1",
   "metadata": {},
   "outputs": [
    {
     "data": {
      "text/plain": [
       "1    151\n",
       "4    134\n",
       "2    131\n",
       "7    126\n",
       "5    125\n",
       "0    122\n",
       "6    109\n",
       "3    102\n",
       "Name: cluster, dtype: int64"
      ]
     },
     "execution_count": 53,
     "metadata": {},
     "output_type": "execute_result"
    }
   ],
   "source": [
    "x['cluster'].value_counts()"
   ]
  },
  {
   "cell_type": "code",
   "execution_count": 51,
   "id": "1b8af85c",
   "metadata": {},
   "outputs": [
    {
     "data": {
      "text/plain": [
       "0.5512640895977645"
      ]
     },
     "execution_count": 51,
     "metadata": {},
     "output_type": "execute_result"
    }
   ],
   "source": [
    "silhouette_score(x,tahmin)"
   ]
  },
  {
   "cell_type": "code",
   "execution_count": 52,
   "id": "21ac03a8",
   "metadata": {},
   "outputs": [
    {
     "data": {
      "text/plain": [
       "<matplotlib.collections.PathCollection at 0x23e49621750>"
      ]
     },
     "execution_count": 52,
     "metadata": {},
     "output_type": "execute_result"
    },
    {
     "data": {
      "image/png": "[encoded data removed]",
      "text/plain": [
       "<Figure size 640x480 with 1 Axes>"
      ]
     },
     "metadata": {},
     "output_type": "display_data"
    }
   ],
   "source": [
    "plt.figure()\n",
    "#plt.scatter(x[\"Employment Status\"], x[\"Loan Amount\"], c = tahmin)\n",
    "plt.scatter(x[\"Employment Status\"], x[\"Type of Loan\"], c = tahmin)\n",
    "\n",
    "\n"
   ]
  },
  {
   "cell_type": "code",
   "execution_count": 41,
   "id": "e7c9438a",
   "metadata": {},
   "outputs": [],
   "source": [
    "allscore= []\n",
    "allclusters = []\n",
    "distances = []\n",
    "def clust(kactane):\n",
    "    for i in range(1,kactane):\n",
    "        i = i+1\n",
    "        model   = KMeans(i)\n",
    "        model   = model.fit(x)\n",
    "        tahmin  = model.predict(x)\n",
    "        score   = silhouette_score(x,tahmin)\n",
    "        distance = model.inertia_\n",
    "        print('cluster ',i,\" score: \", score)\n",
    "        allscore.append(score) \n",
    "        allclusters.append(i)\n",
    "        distances.append(distance)"
   ]
  },
  {
   "cell_type": "code",
   "execution_count": 42,
   "id": "326988c6",
   "metadata": {},
   "outputs": [
    {
     "name": "stdout",
     "output_type": "stream",
     "text": [
      "cluster  2  score:  0.6169395167347729\n",
      "cluster  3  score:  0.5887763857019145\n",
      "cluster  4  score:  0.5736131511150423\n",
      "cluster  5  score:  0.5692235542553525\n",
      "cluster  6  score:  0.5598538050331456\n",
      "cluster  7  score:  0.5562955617118955\n",
      "cluster  8  score:  0.5513736594609842\n",
      "cluster  9  score:  0.5459068890692329\n",
      "cluster  10  score:  0.5540138291545077\n"
     ]
    }
   ],
   "source": [
    "clust(10)"
   ]
  },
  {
   "cell_type": "code",
   "execution_count": 43,
   "id": "4833a6e3",
   "metadata": {},
   "outputs": [],
   "source": [
    "from scipy.cluster.hierarchy import dendrogram, linkage\n",
    "link_data = linkage(x, method = \"ward\", metric = \"euclidean\")"
   ]
  },
  {
   "cell_type": "code",
   "execution_count": 44,
   "id": "37bf8bd6",
   "metadata": {},
   "outputs": [
    {
     "data": {
      "image/png": "[encoded data removed]",
      "text/plain": [
       "<Figure size 640x480 with 1 Axes>"
      ]
     },
     "metadata": {},
     "output_type": "display_data"
    }
   ],
   "source": [
    "dendrogram(link_data)\n",
    "plt.show()"
   ]
  },
  {
   "cell_type": "code",
   "execution_count": null,
   "id": "080bdc2b",
   "metadata": {},
   "outputs": [],
   "source": []
  }
 ],
 "metadata": {
  "kernelspec": {
   "display_name": "Python 3 (ipykernel)",
   "language": "python",
   "name": "python3"
  },
  "language_info": {
   "codemirror_mode": {
    "name": "ipython",
    "version": 3
   },
   "file_extension": ".py",
   "mimetype": "text/x-python",
   "name": "python",
   "nbconvert_exporter": "python",
   "pygments_lexer": "ipython3",
   "version": "3.11.5"
  }
 },
 "nbformat": 4,
 "nbformat_minor": 5
}
